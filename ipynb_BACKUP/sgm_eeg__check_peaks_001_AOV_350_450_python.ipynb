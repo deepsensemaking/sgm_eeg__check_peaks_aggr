{
  "nbformat": 4,
  "nbformat_minor": 0,
  "metadata": {
    "colab": {
      "name": "sgm_eeg__check_peaks_001_AOV_350_450_python.ipynb",
      "provenance": [],
      "collapsed_sections": []
    },
    "kernelspec": {
      "name": "python3",
      "display_name": "Python 3"
    }
  },
  "cells": [
    {
      "cell_type": "code",
      "metadata": {
        "colab": {
          "base_uri": "https://localhost:8080/"
        },
        "id": "CBaT-PITkh6f",
        "outputId": "3555b3a2-e07b-492b-feff-ada8f2ecd750"
      },
      "source": [
        "!apt install tree\n",
        "!pip install -U deepsensemaking\n",
        "!pip install hickle\n",
        "!pip install humanfriendly\n",
        "!pip install mne autoreject\n",
        "!pip install tqdm\n",
        "!pip install pingouin"
      ],
      "execution_count": 17,
      "outputs": [
        {
          "output_type": "stream",
          "text": [
            "Reading package lists... Done\n",
            "Building dependency tree       \n",
            "Reading state information... Done\n",
            "tree is already the newest version (1.7.0-5).\n",
            "0 upgraded, 0 newly installed, 0 to remove and 14 not upgraded.\n",
            "Requirement already up-to-date: deepsensemaking in /usr/local/lib/python3.6/dist-packages (0.1.2020.12.21.4)\n",
            "Requirement already satisfied, skipping upgrade: pandas>=1.0.1 in /usr/local/lib/python3.6/dist-packages (from deepsensemaking) (1.1.5)\n",
            "Requirement already satisfied, skipping upgrade: numpy>=1.18.1 in /usr/local/lib/python3.6/dist-packages (from deepsensemaking) (1.19.4)\n",
            "Requirement already satisfied, skipping upgrade: scipy>=1.4.1 in /usr/local/lib/python3.6/dist-packages (from deepsensemaking) (1.4.1)\n",
            "Requirement already satisfied, skipping upgrade: argparse>=1.1 in /usr/local/lib/python3.6/dist-packages (from deepsensemaking) (1.4.0)\n",
            "Requirement already satisfied, skipping upgrade: colorama>=0.4.3 in /usr/local/lib/python3.6/dist-packages (from deepsensemaking) (0.4.4)\n",
            "Requirement already satisfied, skipping upgrade: pytz>=2017.2 in /usr/local/lib/python3.6/dist-packages (from pandas>=1.0.1->deepsensemaking) (2018.9)\n",
            "Requirement already satisfied, skipping upgrade: python-dateutil>=2.7.3 in /usr/local/lib/python3.6/dist-packages (from pandas>=1.0.1->deepsensemaking) (2.8.1)\n",
            "Requirement already satisfied, skipping upgrade: six>=1.5 in /usr/local/lib/python3.6/dist-packages (from python-dateutil>=2.7.3->pandas>=1.0.1->deepsensemaking) (1.15.0)\n",
            "Requirement already satisfied: hickle in /usr/local/lib/python3.6/dist-packages (4.0.3)\n",
            "Requirement already satisfied: dill>=0.3.0 in /usr/local/lib/python3.6/dist-packages (from hickle) (0.3.3)\n",
            "Requirement already satisfied: six>=1.11.0 in /usr/local/lib/python3.6/dist-packages (from hickle) (1.15.0)\n",
            "Requirement already satisfied: numpy>=1.8 in /usr/local/lib/python3.6/dist-packages (from hickle) (1.19.4)\n",
            "Requirement already satisfied: h5py<3.0.0,>=2.8.0 in /usr/local/lib/python3.6/dist-packages (from hickle) (2.10.0)\n",
            "Requirement already satisfied: humanfriendly in /usr/local/lib/python3.6/dist-packages (9.1)\n",
            "Requirement already satisfied: mne in /usr/local/lib/python3.6/dist-packages (0.22.0)\n",
            "Requirement already satisfied: autoreject in /usr/local/lib/python3.6/dist-packages (0.2.1)\n",
            "Requirement already satisfied: numpy>=1.11.3 in /usr/local/lib/python3.6/dist-packages (from mne) (1.19.4)\n",
            "Requirement already satisfied: scipy>=0.17.1 in /usr/local/lib/python3.6/dist-packages (from mne) (1.4.1)\n",
            "Requirement already satisfied: tqdm in /usr/local/lib/python3.6/dist-packages (4.41.1)\n",
            "Requirement already satisfied: pingouin in /usr/local/lib/python3.6/dist-packages (0.3.8)\n",
            "Requirement already satisfied: seaborn>=0.9.0 in /usr/local/lib/python3.6/dist-packages (from pingouin) (0.11.0)\n",
            "Requirement already satisfied: scipy>=1.3 in /usr/local/lib/python3.6/dist-packages (from pingouin) (1.4.1)\n",
            "Requirement already satisfied: matplotlib>=3.0.2 in /usr/local/lib/python3.6/dist-packages (from pingouin) (3.2.2)\n",
            "Requirement already satisfied: pandas-flavor>=0.1.2 in /usr/local/lib/python3.6/dist-packages (from pingouin) (0.2.0)\n",
            "Requirement already satisfied: tabulate in /usr/local/lib/python3.6/dist-packages (from pingouin) (0.8.7)\n",
            "Requirement already satisfied: numpy>=1.15 in /usr/local/lib/python3.6/dist-packages (from pingouin) (1.19.4)\n",
            "Requirement already satisfied: pandas>=0.24 in /usr/local/lib/python3.6/dist-packages (from pingouin) (1.1.5)\n",
            "Requirement already satisfied: scikit-learn in /usr/local/lib/python3.6/dist-packages (from pingouin) (0.22.2.post1)\n",
            "Requirement already satisfied: outdated in /usr/local/lib/python3.6/dist-packages (from pingouin) (0.2.0)\n",
            "Requirement already satisfied: statsmodels>=0.10.0 in /usr/local/lib/python3.6/dist-packages (from pingouin) (0.10.2)\n",
            "Requirement already satisfied: cycler>=0.10 in /usr/local/lib/python3.6/dist-packages (from matplotlib>=3.0.2->pingouin) (0.10.0)\n",
            "Requirement already satisfied: kiwisolver>=1.0.1 in /usr/local/lib/python3.6/dist-packages (from matplotlib>=3.0.2->pingouin) (1.3.1)\n",
            "Requirement already satisfied: python-dateutil>=2.1 in /usr/local/lib/python3.6/dist-packages (from matplotlib>=3.0.2->pingouin) (2.8.1)\n",
            "Requirement already satisfied: pyparsing!=2.0.4,!=2.1.2,!=2.1.6,>=2.0.1 in /usr/local/lib/python3.6/dist-packages (from matplotlib>=3.0.2->pingouin) (2.4.7)\n",
            "Requirement already satisfied: xarray in /usr/local/lib/python3.6/dist-packages (from pandas-flavor>=0.1.2->pingouin) (0.15.1)\n",
            "Requirement already satisfied: pytz>=2017.2 in /usr/local/lib/python3.6/dist-packages (from pandas>=0.24->pingouin) (2018.9)\n",
            "Requirement already satisfied: joblib>=0.11 in /usr/local/lib/python3.6/dist-packages (from scikit-learn->pingouin) (1.0.0)\n",
            "Requirement already satisfied: littleutils in /usr/local/lib/python3.6/dist-packages (from outdated->pingouin) (0.2.2)\n",
            "Requirement already satisfied: requests in /usr/local/lib/python3.6/dist-packages (from outdated->pingouin) (2.23.0)\n",
            "Requirement already satisfied: patsy>=0.4.0 in /usr/local/lib/python3.6/dist-packages (from statsmodels>=0.10.0->pingouin) (0.5.1)\n",
            "Requirement already satisfied: six in /usr/local/lib/python3.6/dist-packages (from cycler>=0.10->matplotlib>=3.0.2->pingouin) (1.15.0)\n",
            "Requirement already satisfied: setuptools>=41.2 in /usr/local/lib/python3.6/dist-packages (from xarray->pandas-flavor>=0.1.2->pingouin) (50.3.2)\n",
            "Requirement already satisfied: urllib3!=1.25.0,!=1.25.1,<1.26,>=1.21.1 in /usr/local/lib/python3.6/dist-packages (from requests->outdated->pingouin) (1.24.3)\n",
            "Requirement already satisfied: chardet<4,>=3.0.2 in /usr/local/lib/python3.6/dist-packages (from requests->outdated->pingouin) (3.0.4)\n",
            "Requirement already satisfied: idna<3,>=2.5 in /usr/local/lib/python3.6/dist-packages (from requests->outdated->pingouin) (2.10)\n",
            "Requirement already satisfied: certifi>=2017.4.17 in /usr/local/lib/python3.6/dist-packages (from requests->outdated->pingouin) (2020.12.5)\n"
          ],
          "name": "stdout"
        }
      ]
    },
    {
      "cell_type": "code",
      "metadata": {
        "colab": {
          "base_uri": "https://localhost:8080/"
        },
        "id": "zIlg80u0kjNY",
        "outputId": "fe55e569-abd1-4bec-b4c2-d6c981f01127"
      },
      "source": [
        "!rm -fR peaks\n",
        "!git clone https://github.com/deepsensemaking/sgm_eeg__check_peaks_aggr.git peaks\n",
        "!cd peaks && git pull\n",
        "!cd peaks && git rev-parse --short HEAD"
      ],
      "execution_count": 18,
      "outputs": [
        {
          "output_type": "stream",
          "text": [
            "Cloning into 'peaks'...\n",
            "remote: Enumerating objects: 103, done.\u001b[K\n",
            "remote: Counting objects: 100% (103/103), done.\u001b[K\n",
            "remote: Compressing objects: 100% (55/55), done.\u001b[K\n",
            "remote: Total 103 (delta 60), reused 86 (delta 43), pack-reused 0\u001b[K\n",
            "Receiving objects: 100% (103/103), 55.04 MiB | 14.51 MiB/s, done.\n",
            "Resolving deltas: 100% (60/60), done.\n",
            "Checking out files: 100% (39/39), done.\n",
            "Already up to date.\n",
            "742c2e3\n"
          ],
          "name": "stdout"
        }
      ]
    },
    {
      "cell_type": "code",
      "metadata": {
        "colab": {
          "base_uri": "https://localhost:8080/"
        },
        "id": "Rfgj53dPkl9K",
        "outputId": "f0417111-6a86-4b73-af49-4975da9fe28a"
      },
      "source": [
        "!tree peaks\n"
      ],
      "execution_count": 19,
      "outputs": [
        {
          "output_type": "stream",
          "text": [
            "peaks\n",
            "├── data\n",
            "│   ├── arch\n",
            "│   │   ├── dfA0.csv\n",
            "│   │   ├── dfA2.csv\n",
            "│   │   ├── dfC4_peaks_crude_XTRA_MEANS.csv\n",
            "│   │   ├── dfZ1_peaks_crude_CONVERTED.csv\n",
            "│   │   └── dfZ4_peaks_crude_XTRA_MEANS.csv\n",
            "│   ├── bv_peaks\n",
            "│   │   ├── 1_bv_peak.csv\n",
            "│   │   ├── 2_bv_peak.csv\n",
            "│   │   ├── 3_bv_peak.csv\n",
            "│   │   ├── 4_bv_peak.csv\n",
            "│   │   ├── 5_bv_peak.csv\n",
            "│   │   └── 6_bv_peak.csv\n",
            "│   ├── corr_bv_database_EEG_LONG.csv\n",
            "│   ├── df0_peaks0_crude.csv\n",
            "│   ├── df0_peaks0_crude.xtra.bund.means.csv\n",
            "│   ├── df0_peaks0.csv\n",
            "│   ├── df1_peaks1_crude.csv\n",
            "│   ├── df1_peaks1_crude.xtra.bund.means.csv\n",
            "│   ├── df1_peaks1.csv\n",
            "│   ├── df2_peaks2_crude.csv\n",
            "│   ├── df2_peaks2_crude.xtra.bund.means.csv\n",
            "│   ├── df2_peaks2.csv\n",
            "│   ├── df3_peaks3_crude.csv\n",
            "│   ├── df3_peaks3_crude.xtra.bund.means.csv\n",
            "│   ├── df3_peaks3.csv\n",
            "│   ├── df4_peaks4_crude.csv\n",
            "│   ├── df4_peaks4_crude.xtra.bund.means.csv\n",
            "│   ├── df4_peaks4.csv\n",
            "│   ├── dfA0.csv\n",
            "│   ├── dfA2.csv\n",
            "│   ├── dfZ0_peaks_crude_CONVERTED.csv\n",
            "│   ├── dfZ0_peaks_crude_CONVERTED.xtra.bund.means.csv\n",
            "│   ├── dfZ4_peaks_crude_CONVERTED.csv\n",
            "│   ├── dfZ4_peaks_crude_CONVERTED.xtra.bund.means.csv\n",
            "│   └── setup.json\n",
            "├── peaks\n",
            "│   └── data -> ../data\n",
            "├── peaks__test_001.org\n",
            "├── peaks__test_001.org_archive\n",
            "└── peaks__test_001.tg.ipy\n",
            "\n",
            "5 directories, 37 files\n"
          ],
          "name": "stdout"
        }
      ]
    },
    {
      "cell_type": "code",
      "metadata": {
        "colab": {
          "base_uri": "https://localhost:8080/"
        },
        "id": "jejY-YE9koFp",
        "outputId": "b1f99d32-14d7-4bef-c1e4-139a1b0c1e3e"
      },
      "source": [
        "\n",
        "\"\"\"\n",
        "get_ipython().magic(\"run peaks__test_001.tg.ipy\")\n",
        "\n",
        "\"\"\"\n",
        "\n",
        "get_ipython().magic(\"load_ext autoreload\")\n",
        "get_ipython().magic(\"autoreload 2\"       )\n",
        "\n",
        "import os\n",
        "import sys\n",
        "import numpy as np\n",
        "import pandas as pd\n",
        "import json\n",
        "\n",
        "import matplotlib.pyplot as plt\n",
        "from mpl_toolkits import mplot3d\n",
        "\n",
        "# get_ipython().magic(\"matplotlib notebook\")\n",
        "get_ipython().magic(\"matplotlib inline\")\n",
        "\n",
        "import seaborn as sns\n",
        "\n",
        "from collections import OrderedDict\n",
        "\n",
        "import matplotlib as mpt\n",
        "import mpmath as mmp\n",
        "import scipy as sp\n",
        "import pingouin as pg\n",
        "import outdated as od\n",
        "import statsmodels as sm\n",
        "import sklearn as skl\n",
        "import pandas.util.testing as tm\n",
        "from scipy import stats as sp\n",
        "from pingouin import  pairwise_ttests, read_dataset\n",
        "\n",
        "\n",
        "\n",
        "import deepsensemaking as dsm\n",
        "from   deepsensemaking.dicts import str_dict,print_dict\n",
        "from   deepsensemaking.bids  import get_bids_prop\n",
        "from   deepsensemaking.eeg   import convert_ZZ\n",
        "from   deepsensemaking.eeg   import convert_ZZ_translators\n",
        "from   deepsensemaking.eeg   import chan_bund_INEFFICIENT_mean\n",
        "from   deepsensemaking.pd    import mgrs\n",
        "\n",
        "from contextlib import ExitStack\n",
        "\n",
        "from IPython.display import display,HTML,Image\n",
        "\n",
        "_DIR = dsm.set_cwd()\n",
        "\n",
        "pd.set_option(\"display.notebook_repr_html\", dsm.base.outside_emacs() )\n",
        "\n",
        "with ExitStack() as stack:\n",
        "    [stack.enter_context(mgr) for mgr in mgrs]\n",
        "    print( pd.get_option(\"display.max_rows\") )\n",
        "\n",
        "\n",
        "def dispDF(df_TEMP,n=6):\n",
        "    with ExitStack() as stack:\n",
        "        [stack.enter_context(mgr) for mgr in mgrs]\n",
        "        display(df_TEMP.shape)\n",
        "        display(df_TEMP.sample(n=n).sort_index())\n",
        "\n"
      ],
      "execution_count": 21,
      "outputs": [
        {
          "output_type": "stream",
          "text": [
            "INFO: no EMACS_BUFFER_DIR variable was found\n",
            "INFO: keeping '/content' as CWD\n"
          ],
          "name": "stderr"
        },
        {
          "output_type": "stream",
          "text": [
            "The autoreload extension is already loaded. To reload it, use:\n",
            "  %reload_ext autoreload\n",
            "200\n"
          ],
          "name": "stdout"
        }
      ]
    },
    {
      "cell_type": "code",
      "metadata": {
        "colab": {
          "base_uri": "https://localhost:8080/"
        },
        "id": "4vu5O1x2kwt_",
        "outputId": "9d21cc53-4033-4e35-aa85-a4bab0c08132"
      },
      "source": [
        "ifSetup=\"peaks/data/setup.json\"\n",
        "with open(ifSetup) as fhSetup: setup = OrderedDict(json.load(fhSetup))\n",
        "print_dict(setup,\"setup\",1,)"
      ],
      "execution_count": 22,
      "outputs": [
        {
          "output_type": "stream",
          "text": [
            "\n",
            "setup[\"params\"][\"flat\"] # {'eeg': 1e-06} # <dict>\n",
            "setup[\"params\"][\"scale\"] # {'eeg': 2e-05} # <dict>\n",
            "setup[\"params\"][\"reject\"] # {'eeg': 0.00014} # <dict>\n",
            "setup[\"params\"][\"subset\"] = True\n",
            "setup[\"events\"][\"dgn0\"] = None # <NoneType>\n",
            "setup[\"events\"][\"dict0\"] # {'verb/X/8/S101/bakdawić': 101, 'verb/X # [...] # <dict>\n",
            "setup[\"events\"][\"dictX\"] # {'Stimulus/S101': 101, 'Stimulus/S102': # [...] # <dict>\n",
            "setup[\"events\"][\"dictS\"] # {'S101': 101, 'S102': 102, 'S103': 103, # [...] # <dict>\n",
            "setup[\"queries\"][\"word_set\"] # {'verb_X': '(POSGEN == \"verb_X\")', 'nou # [...] # <dict>\n",
            "setup[\"colors0\"][\"word_set\"] # {'all_in': '#999999', 'verb_X': '#e5786 # [...] # <dict>\n",
            "setup[\"colors0\"][\"word_len\"] # {'9': '#ff38c9', '8': '#a877e4', '7': ' # [...] # <dict>\n",
            "setup[\"linestyles0\"][\"word_set\"] # {'all_in': 'solid', 'verb_X': 'solid',  # [...] # <dict>\n",
            "setup[\"linestyles0\"][\"word_len\"] # {'9': 'solid', '8': 'solid', '7': 'soli # [...] # <dict>\n",
            "setup[\"styles0\"][\"word_set\"] # {'all_in': {'linewidth': 1}, 'verb_X':  # [...] # <dict>\n",
            "setup[\"styles0\"][\"word_len\"] # {'9': {'linewidth': 3}, '8': {'linewidt # [...] # <dict>\n",
            "setup[\"chans\"][\"montage\"] = \"standard_1005\"\n",
            "setup[\"chans\"][\"init\"] = 64\n",
            "setup[\"chans\"][\"incl\"] = 36\n",
            "setup[\"chans\"][\"refs\"] = ['FCz'] # len: 1\n",
            "setup[\"chans\"][\"bund\"] # {} # <dict>\n",
            "setup[\"chans\"][\"bund0\"] # {'LF': ['AF3', 'F1', 'F3', 'F5', 'FC1', # [...] # <dict>\n",
            "setup[\"chans\"][\"bund1\"] # {'B0': ['Fp1', 'Fp2', 'F7', 'F3', 'Fz', # [...] # <dict>\n",
            "setup[\"chans\"][\"info0\"] # {'L': ['AF3', 'F1', 'F3', 'F5', 'FC1',  # [...] # <dict>\n",
            "setup[\"chans\"][\"info1\"] # {'later0': {'AF3': 'L', 'F1': 'L', 'F3' # [...] # <dict>\n",
            "setup[\"chans\"][\"info2\"] # {'later0': {'AF3': 'L', 'F1': 'L', 'F3' # [...] # <dict>\n",
            "setup[\"time\"][\"spans0\"] # {'1': [0.1, 0.19], '2': [0.19, 0.29], ' # [...] # <dict>\n",
            "setup[\"time\"][\"means0\"] # {'1': 0.145, '2': 0.24, '3': 0.4, '4':  # [...] # <dict>\n",
            "setup[\"time\"][\"colors6\"] = ['#F20055','#81a257','#920092','#226bb7 # [...] # len: 6\n",
            "setup[\"time\"][\"vlines7\"] = [0,0.12,0.145,0.24,0.4,0.495,0.748] # len: 7\n",
            "setup[\"filt\"][\"l_freq\"] = 0.1\n",
            "setup[\"filt\"][\"h_freq\"] = 36.0\n",
            "setup[\"filt\"][\"fir_design\"] = \"firwin\"\n",
            "setup[\"resamp\"][\"sfreq\"] = 200\n",
            "setup[\"subj_excl\"][\"zz0\"] = ['01mkxf','02ppxm','09msxf','15agxf','1 # [...] # len: 10\n",
            "setup[\"db_infos_zz\"][\"cond\"] # {'1': 'verb_X', '2': 'noun_X', '3': 'no # [...] # <dict>\n",
            "setup[\"db_infos_zz\"][\"time\"] # {'1': [0.1, 0.19], '2': [0.19, 0.29], ' # [...] # <dict>\n",
            "setup[\"db_infos_zz\"][\"rref\"] = ['TP9','TP10'] # len: 2\n",
            "\n"
          ],
          "name": "stdout"
        }
      ]
    },
    {
      "cell_type": "markdown",
      "metadata": {
        "id": "VJ5jKdp9A5Om"
      },
      "source": [
        "### Caution\n",
        "\n",
        "/usr/local/lib/python3.6/dist-packages/pingouin/distribution.py:459: UserWarning: Epsilon values might be innaccurate in two-way repeated measures design where each  factor has more than 2 levels. Please  double-check your results.\n"
      ]
    },
    {
      "cell_type": "code",
      "metadata": {
        "id": "rUdbf4KlBslc"
      },
      "source": [
        "import warnings\n",
        "warnings.simplefilter(\"ignore\")\n",
        "warnings.simplefilter(\"default\")"
      ],
      "execution_count": 7,
      "outputs": []
    },
    {
      "cell_type": "markdown",
      "metadata": {
        "id": "PYV3s4c4GZio"
      },
      "source": [
        "# Raw data"
      ]
    },
    {
      "cell_type": "code",
      "metadata": {
        "colab": {
          "base_uri": "https://localhost:8080/"
        },
        "id": "m9OAsQm6Gupa",
        "outputId": "1050dd58-9eab-42b1-f985-cbad550fd1bc"
      },
      "source": [
        "dfZZ = pd.read_csv(\"peaks/data/corr_bv_database_EEG_LONG.csv\")\n",
        "print( dfZZ.shape )\n",
        "\n",
        "dfZZ = convert_ZZ(dfZZ,ifSetup=\"peaks/data/setup.json\",verbose=0,)\n",
        "\n",
        "# dispDF(dfZZ,11)\n"
      ],
      "execution_count": 8,
      "outputs": [
        {
          "output_type": "stream",
          "text": [
            "(110592, 9)\n"
          ],
          "name": "stdout"
        }
      ]
    },
    {
      "cell_type": "code",
      "metadata": {
        "colab": {
          "base_uri": "https://localhost:8080/",
          "height": 408
        },
        "id": "9ABVvbtRk2II",
        "outputId": "de18fb13-2f4a-4c22-d51a-b5edef33cbfa"
      },
      "source": [
        "ifA2 = \"peaks/data/dfA2.csv\"\n",
        "dfA2 = pd.read_csv(ifA2)\n",
        "dispDF(dfA2,11)\n"
      ],
      "execution_count": 9,
      "outputs": [
        {
          "output_type": "display_data",
          "data": {
            "text/plain": [
              "(235008, 11)"
            ]
          },
          "metadata": {
            "tags": []
          }
        },
        {
          "output_type": "display_data",
          "data": {
            "text/html": [
              "<div>\n",
              "<style scoped>\n",
              "    .dataframe tbody tr th:only-of-type {\n",
              "        vertical-align: middle;\n",
              "    }\n",
              "\n",
              "    .dataframe tbody tr th {\n",
              "        vertical-align: top;\n",
              "    }\n",
              "\n",
              "    .dataframe thead th {\n",
              "        text-align: right;\n",
              "    }\n",
              "</style>\n",
              "<table border=\"1\" class=\"dataframe\">\n",
              "  <thead>\n",
              "    <tr style=\"text-align: right;\">\n",
              "      <th></th>\n",
              "      <th>set0</th>\n",
              "      <th>mode0</th>\n",
              "      <th>cond0</th>\n",
              "      <th>chan0</th>\n",
              "      <th>later0</th>\n",
              "      <th>front0</th>\n",
              "      <th>bund0</th>\n",
              "      <th>tmin0</th>\n",
              "      <th>runn0</th>\n",
              "      <th>subj0</th>\n",
              "      <th>valX</th>\n",
              "    </tr>\n",
              "  </thead>\n",
              "  <tbody>\n",
              "    <tr>\n",
              "      <th>3515</th>\n",
              "      <td>C3bund</td>\n",
              "      <td>neg</td>\n",
              "      <td>noun_M</td>\n",
              "      <td>LP</td>\n",
              "      <td>L</td>\n",
              "      <td>P</td>\n",
              "      <td>NaN</td>\n",
              "      <td>0.11</td>\n",
              "      <td>0</td>\n",
              "      <td>04mkkm</td>\n",
              "      <td>-0.440114</td>\n",
              "    </tr>\n",
              "    <tr>\n",
              "      <th>23176</th>\n",
              "      <td>C3bund</td>\n",
              "      <td>pos</td>\n",
              "      <td>noun_F</td>\n",
              "      <td>RP</td>\n",
              "      <td>R</td>\n",
              "      <td>P</td>\n",
              "      <td>NaN</td>\n",
              "      <td>0.35</td>\n",
              "      <td>0</td>\n",
              "      <td>16olxm</td>\n",
              "      <td>4.063305</td>\n",
              "    </tr>\n",
              "    <tr>\n",
              "      <th>37924</th>\n",
              "      <td>C3chan</td>\n",
              "      <td>pos</td>\n",
              "      <td>noun_X</td>\n",
              "      <td>CP3</td>\n",
              "      <td>L</td>\n",
              "      <td>C</td>\n",
              "      <td>LC</td>\n",
              "      <td>0.35</td>\n",
              "      <td>0</td>\n",
              "      <td>25abxf</td>\n",
              "      <td>4.090530</td>\n",
              "    </tr>\n",
              "    <tr>\n",
              "      <th>71966</th>\n",
              "      <td>C4bund</td>\n",
              "      <td>pos</td>\n",
              "      <td>noun_X</td>\n",
              "      <td>LC</td>\n",
              "      <td>L</td>\n",
              "      <td>C</td>\n",
              "      <td>NaN</td>\n",
              "      <td>0.19</td>\n",
              "      <td>0</td>\n",
              "      <td>36rwxm</td>\n",
              "      <td>4.859484</td>\n",
              "    </tr>\n",
              "    <tr>\n",
              "      <th>88702</th>\n",
              "      <td>Z3chan</td>\n",
              "      <td>pos</td>\n",
              "      <td>verb_X</td>\n",
              "      <td>P6</td>\n",
              "      <td>R</td>\n",
              "      <td>P</td>\n",
              "      <td>RP</td>\n",
              "      <td>0.19</td>\n",
              "      <td>3</td>\n",
              "      <td>42aszm</td>\n",
              "      <td>5.229360</td>\n",
              "    </tr>\n",
              "    <tr>\n",
              "      <th>91558</th>\n",
              "      <td>Z3chan</td>\n",
              "      <td>pos</td>\n",
              "      <td>noun_M</td>\n",
              "      <td>PO7</td>\n",
              "      <td>L</td>\n",
              "      <td>P</td>\n",
              "      <td>LP</td>\n",
              "      <td>0.19</td>\n",
              "      <td>3</td>\n",
              "      <td>13jsxm</td>\n",
              "      <td>9.410773</td>\n",
              "    </tr>\n",
              "    <tr>\n",
              "      <th>141828</th>\n",
              "      <td>Z3chan</td>\n",
              "      <td>pos</td>\n",
              "      <td>verb_X</td>\n",
              "      <td>O2</td>\n",
              "      <td>R</td>\n",
              "      <td>P</td>\n",
              "      <td>RP</td>\n",
              "      <td>0.60</td>\n",
              "      <td>1</td>\n",
              "      <td>04mkkm</td>\n",
              "      <td>2.599281</td>\n",
              "    </tr>\n",
              "    <tr>\n",
              "      <th>180819</th>\n",
              "      <td>Z3chan</td>\n",
              "      <td>pos</td>\n",
              "      <td>verb_X</td>\n",
              "      <td>P6</td>\n",
              "      <td>R</td>\n",
              "      <td>P</td>\n",
              "      <td>RP</td>\n",
              "      <td>0.10</td>\n",
              "      <td>4</td>\n",
              "      <td>28pmsf</td>\n",
              "      <td>12.811827</td>\n",
              "    </tr>\n",
              "    <tr>\n",
              "      <th>181818</th>\n",
              "      <td>Z3chan</td>\n",
              "      <td>pos</td>\n",
              "      <td>verb_X</td>\n",
              "      <td>P8</td>\n",
              "      <td>R</td>\n",
              "      <td>P</td>\n",
              "      <td>RP</td>\n",
              "      <td>0.10</td>\n",
              "      <td>3</td>\n",
              "      <td>20jpxf</td>\n",
              "      <td>8.013247</td>\n",
              "    </tr>\n",
              "    <tr>\n",
              "      <th>185749</th>\n",
              "      <td>Z4bund</td>\n",
              "      <td>pos</td>\n",
              "      <td>verb_X</td>\n",
              "      <td>RF</td>\n",
              "      <td>R</td>\n",
              "      <td>F</td>\n",
              "      <td>NaN</td>\n",
              "      <td>0.35</td>\n",
              "      <td>3</td>\n",
              "      <td>38slxm</td>\n",
              "      <td>-1.570253</td>\n",
              "    </tr>\n",
              "    <tr>\n",
              "      <th>228901</th>\n",
              "      <td>Z0chan</td>\n",
              "      <td>pos</td>\n",
              "      <td>verb_X</td>\n",
              "      <td>P5</td>\n",
              "      <td>L</td>\n",
              "      <td>P</td>\n",
              "      <td>LP</td>\n",
              "      <td>0.11</td>\n",
              "      <td>0</td>\n",
              "      <td>08pnxm</td>\n",
              "      <td>5.843655</td>\n",
              "    </tr>\n",
              "  </tbody>\n",
              "</table>\n",
              "</div>"
            ],
            "text/plain": [
              "          set0 mode0   cond0 chan0 later0 front0 bund0  tmin0  runn0   subj0       valX\n",
              "3515    C3bund   neg  noun_M    LP      L      P   NaN   0.11      0  04mkkm  -0.440114\n",
              "23176   C3bund   pos  noun_F    RP      R      P   NaN   0.35      0  16olxm   4.063305\n",
              "37924   C3chan   pos  noun_X   CP3      L      C    LC   0.35      0  25abxf   4.090530\n",
              "71966   C4bund   pos  noun_X    LC      L      C   NaN   0.19      0  36rwxm   4.859484\n",
              "88702   Z3chan   pos  verb_X    P6      R      P    RP   0.19      3  42aszm   5.229360\n",
              "91558   Z3chan   pos  noun_M   PO7      L      P    LP   0.19      3  13jsxm   9.410773\n",
              "141828  Z3chan   pos  verb_X    O2      R      P    RP   0.60      1  04mkkm   2.599281\n",
              "180819  Z3chan   pos  verb_X    P6      R      P    RP   0.10      4  28pmsf  12.811827\n",
              "181818  Z3chan   pos  verb_X    P8      R      P    RP   0.10      3  20jpxf   8.013247\n",
              "185749  Z4bund   pos  verb_X    RF      R      F   NaN   0.35      3  38slxm  -1.570253\n",
              "228901  Z0chan   pos  verb_X    P5      L      P    LP   0.11      0  08pnxm   5.843655"
            ]
          },
          "metadata": {
            "tags": []
          }
        }
      ]
    },
    {
      "cell_type": "code",
      "metadata": {
        "id": "mmqLkZtsMgwF"
      },
      "source": [
        ""
      ],
      "execution_count": 9,
      "outputs": []
    },
    {
      "cell_type": "markdown",
      "metadata": {
        "id": "BQB35J2wMh_x"
      },
      "source": [
        "# How to query"
      ]
    },
    {
      "cell_type": "code",
      "metadata": {
        "colab": {
          "base_uri": "https://localhost:8080/",
          "height": 419
        },
        "id": "xZJlbda9HNJr",
        "outputId": "3442f742-81dd-4e62-d106-6ea6ba6a337a"
      },
      "source": [
        "temp_query = \" & \".join([\n",
        "    \"\"\" set0   == \"C3chan\" \"\"\",\n",
        "    \"\"\" tmin0  == 0.35     \"\"\",\n",
        "    \"\"\" mode0  == \"pos\"    \"\"\",\n",
        "    \"\"\" front0 == \"F\"      \"\"\",\n",
        "    \"\"\" cond0 in [\"noun_M\",\"noun_F\",\"verb_X\"] \"\"\",\n",
        "])\n",
        "\n",
        "dfA2.query(temp_query)\n",
        "\n"
      ],
      "execution_count": 10,
      "outputs": [
        {
          "output_type": "execute_result",
          "data": {
            "text/html": [
              "<div>\n",
              "<style scoped>\n",
              "    .dataframe tbody tr th:only-of-type {\n",
              "        vertical-align: middle;\n",
              "    }\n",
              "\n",
              "    .dataframe tbody tr th {\n",
              "        vertical-align: top;\n",
              "    }\n",
              "\n",
              "    .dataframe thead th {\n",
              "        text-align: right;\n",
              "    }\n",
              "</style>\n",
              "<table border=\"1\" class=\"dataframe\">\n",
              "  <thead>\n",
              "    <tr style=\"text-align: right;\">\n",
              "      <th></th>\n",
              "      <th>set0</th>\n",
              "      <th>mode0</th>\n",
              "      <th>cond0</th>\n",
              "      <th>chan0</th>\n",
              "      <th>later0</th>\n",
              "      <th>front0</th>\n",
              "      <th>bund0</th>\n",
              "      <th>tmin0</th>\n",
              "      <th>runn0</th>\n",
              "      <th>subj0</th>\n",
              "      <th>valX</th>\n",
              "    </tr>\n",
              "  </thead>\n",
              "  <tbody>\n",
              "    <tr>\n",
              "      <th>4</th>\n",
              "      <td>C3chan</td>\n",
              "      <td>pos</td>\n",
              "      <td>verb_X</td>\n",
              "      <td>AF3</td>\n",
              "      <td>L</td>\n",
              "      <td>F</td>\n",
              "      <td>LF</td>\n",
              "      <td>0.35</td>\n",
              "      <td>0</td>\n",
              "      <td>03mjkf</td>\n",
              "      <td>0.538271</td>\n",
              "    </tr>\n",
              "    <tr>\n",
              "      <th>16</th>\n",
              "      <td>C3chan</td>\n",
              "      <td>pos</td>\n",
              "      <td>verb_X</td>\n",
              "      <td>AF4</td>\n",
              "      <td>R</td>\n",
              "      <td>F</td>\n",
              "      <td>RF</td>\n",
              "      <td>0.35</td>\n",
              "      <td>0</td>\n",
              "      <td>03mjkf</td>\n",
              "      <td>1.201428</td>\n",
              "    </tr>\n",
              "    <tr>\n",
              "      <th>172</th>\n",
              "      <td>C3chan</td>\n",
              "      <td>pos</td>\n",
              "      <td>verb_X</td>\n",
              "      <td>F1</td>\n",
              "      <td>L</td>\n",
              "      <td>F</td>\n",
              "      <td>LF</td>\n",
              "      <td>0.35</td>\n",
              "      <td>0</td>\n",
              "      <td>03mjkf</td>\n",
              "      <td>0.238368</td>\n",
              "    </tr>\n",
              "    <tr>\n",
              "      <th>184</th>\n",
              "      <td>C3chan</td>\n",
              "      <td>pos</td>\n",
              "      <td>verb_X</td>\n",
              "      <td>F2</td>\n",
              "      <td>R</td>\n",
              "      <td>F</td>\n",
              "      <td>RF</td>\n",
              "      <td>0.35</td>\n",
              "      <td>0</td>\n",
              "      <td>03mjkf</td>\n",
              "      <td>0.145886</td>\n",
              "    </tr>\n",
              "    <tr>\n",
              "      <th>196</th>\n",
              "      <td>C3chan</td>\n",
              "      <td>pos</td>\n",
              "      <td>verb_X</td>\n",
              "      <td>F3</td>\n",
              "      <td>L</td>\n",
              "      <td>F</td>\n",
              "      <td>LF</td>\n",
              "      <td>0.35</td>\n",
              "      <td>0</td>\n",
              "      <td>03mjkf</td>\n",
              "      <td>-0.147506</td>\n",
              "    </tr>\n",
              "    <tr>\n",
              "      <th>...</th>\n",
              "      <td>...</td>\n",
              "      <td>...</td>\n",
              "      <td>...</td>\n",
              "      <td>...</td>\n",
              "      <td>...</td>\n",
              "      <td>...</td>\n",
              "      <td>...</td>\n",
              "      <td>...</td>\n",
              "      <td>...</td>\n",
              "      <td>...</td>\n",
              "      <td>...</td>\n",
              "    </tr>\n",
              "    <tr>\n",
              "      <th>63736</th>\n",
              "      <td>C3chan</td>\n",
              "      <td>pos</td>\n",
              "      <td>noun_M</td>\n",
              "      <td>F6</td>\n",
              "      <td>R</td>\n",
              "      <td>F</td>\n",
              "      <td>RF</td>\n",
              "      <td>0.35</td>\n",
              "      <td>0</td>\n",
              "      <td>42aszm</td>\n",
              "      <td>0.394950</td>\n",
              "    </tr>\n",
              "    <tr>\n",
              "      <th>63748</th>\n",
              "      <td>C3chan</td>\n",
              "      <td>pos</td>\n",
              "      <td>noun_M</td>\n",
              "      <td>FC1</td>\n",
              "      <td>L</td>\n",
              "      <td>F</td>\n",
              "      <td>LF</td>\n",
              "      <td>0.35</td>\n",
              "      <td>0</td>\n",
              "      <td>42aszm</td>\n",
              "      <td>2.797029</td>\n",
              "    </tr>\n",
              "    <tr>\n",
              "      <th>63760</th>\n",
              "      <td>C3chan</td>\n",
              "      <td>pos</td>\n",
              "      <td>noun_M</td>\n",
              "      <td>FC2</td>\n",
              "      <td>R</td>\n",
              "      <td>F</td>\n",
              "      <td>RF</td>\n",
              "      <td>0.35</td>\n",
              "      <td>0</td>\n",
              "      <td>42aszm</td>\n",
              "      <td>2.487624</td>\n",
              "    </tr>\n",
              "    <tr>\n",
              "      <th>63772</th>\n",
              "      <td>C3chan</td>\n",
              "      <td>pos</td>\n",
              "      <td>noun_M</td>\n",
              "      <td>FC3</td>\n",
              "      <td>L</td>\n",
              "      <td>F</td>\n",
              "      <td>LF</td>\n",
              "      <td>0.35</td>\n",
              "      <td>0</td>\n",
              "      <td>42aszm</td>\n",
              "      <td>1.942999</td>\n",
              "    </tr>\n",
              "    <tr>\n",
              "      <th>63784</th>\n",
              "      <td>C3chan</td>\n",
              "      <td>pos</td>\n",
              "      <td>noun_M</td>\n",
              "      <td>FC4</td>\n",
              "      <td>R</td>\n",
              "      <td>F</td>\n",
              "      <td>RF</td>\n",
              "      <td>0.35</td>\n",
              "      <td>0</td>\n",
              "      <td>42aszm</td>\n",
              "      <td>2.124337</td>\n",
              "    </tr>\n",
              "  </tbody>\n",
              "</table>\n",
              "<p>1152 rows × 11 columns</p>\n",
              "</div>"
            ],
            "text/plain": [
              "         set0 mode0   cond0 chan0 later0  ... bund0 tmin0  runn0   subj0      valX\n",
              "4      C3chan   pos  verb_X   AF3      L  ...    LF  0.35      0  03mjkf  0.538271\n",
              "16     C3chan   pos  verb_X   AF4      R  ...    RF  0.35      0  03mjkf  1.201428\n",
              "172    C3chan   pos  verb_X    F1      L  ...    LF  0.35      0  03mjkf  0.238368\n",
              "184    C3chan   pos  verb_X    F2      R  ...    RF  0.35      0  03mjkf  0.145886\n",
              "196    C3chan   pos  verb_X    F3      L  ...    LF  0.35      0  03mjkf -0.147506\n",
              "...       ...   ...     ...   ...    ...  ...   ...   ...    ...     ...       ...\n",
              "63736  C3chan   pos  noun_M    F6      R  ...    RF  0.35      0  42aszm  0.394950\n",
              "63748  C3chan   pos  noun_M   FC1      L  ...    LF  0.35      0  42aszm  2.797029\n",
              "63760  C3chan   pos  noun_M   FC2      R  ...    RF  0.35      0  42aszm  2.487624\n",
              "63772  C3chan   pos  noun_M   FC3      L  ...    LF  0.35      0  42aszm  1.942999\n",
              "63784  C3chan   pos  noun_M   FC4      R  ...    RF  0.35      0  42aszm  2.124337\n",
              "\n",
              "[1152 rows x 11 columns]"
            ]
          },
          "metadata": {
            "tags": []
          },
          "execution_count": 10
        }
      ]
    },
    {
      "cell_type": "code",
      "metadata": {
        "id": "QKYakSq4sRXG",
        "colab": {
          "base_uri": "https://localhost:8080/",
          "height": 215
        },
        "outputId": "be05ff43-8b17-4e2a-aeca-32a2749774f8"
      },
      "source": [
        "display(list(dfA2.columns))\n"
      ],
      "execution_count": 11,
      "outputs": [
        {
          "output_type": "display_data",
          "data": {
            "text/plain": [
              "['set0',\n",
              " 'mode0',\n",
              " 'cond0',\n",
              " 'chan0',\n",
              " 'later0',\n",
              " 'front0',\n",
              " 'bund0',\n",
              " 'tmin0',\n",
              " 'runn0',\n",
              " 'subj0',\n",
              " 'valX']"
            ]
          },
          "metadata": {
            "tags": []
          }
        }
      ]
    },
    {
      "cell_type": "code",
      "metadata": {
        "id": "ifTGNsXJsRIu",
        "colab": {
          "base_uri": "https://localhost:8080/",
          "height": 35
        },
        "outputId": "e2e9bbf2-06c9-4b83-83ed-e6a8f756d06f"
      },
      "source": [
        "display(list(dfA2.set0.unique()))\n"
      ],
      "execution_count": 12,
      "outputs": [
        {
          "output_type": "display_data",
          "data": {
            "text/plain": [
              "['C3chan', 'C3bund', 'C4bund', 'Z3chan', 'Z4bund', 'Z0chan', 'Z0bund']"
            ]
          },
          "metadata": {
            "tags": []
          }
        }
      ]
    },
    {
      "cell_type": "markdown",
      "metadata": {
        "id": "fFKgrJkJGK06"
      },
      "source": [
        "# AOVs"
      ]
    },
    {
      "cell_type": "code",
      "metadata": {
        "id": "m4YSOGYQsRAe"
      },
      "source": [
        "# This dictionary will contain all the analysis \n",
        "DS = OrderedDict()"
      ],
      "execution_count": 13,
      "outputs": []
    },
    {
      "cell_type": "markdown",
      "metadata": {
        "id": "C6dy0KuQCvbn"
      },
      "source": [
        "# First analysis (`IDX=1`)"
      ]
    },
    {
      "cell_type": "code",
      "metadata": {
        "id": "U8vYvg9tsQ22",
        "colab": {
          "base_uri": "https://localhost:8080/",
          "height": 409
        },
        "outputId": "fcf7975c-0a72-455e-9c20-92457df7bd8b"
      },
      "source": [
        "# IDX is the key that identifies this analysis item\n",
        "IDX = 1\n",
        "DS[IDX] = OrderedDict()\n",
        "# here we select the sub-database (set0) and relevant data slices (tmin0,cond0)\n",
        "DS[IDX][\"query\"] = \" & \".join([\n",
        "    \"\"\" set0   == \"Z0chan\" \"\"\",\n",
        "    \"\"\" tmin0  == 0.35     \"\"\",\n",
        "    \"\"\" mode0  == \"pos\"    \"\"\",\n",
        "    \"\"\" front0 == \"F\"      \"\"\",\n",
        "    \"\"\" cond0 in [\"noun_M\",\"noun_F\",\"verb_X\"] \"\"\",\n",
        "])\n",
        "DS[IDX][\"args\"] = OrderedDict()\n",
        "DS[IDX][\"args\"][\"data\"]       = dfA2.query(DS[IDX][\"query\"]).copy()\n",
        "DS[IDX][\"args\"][\"dv\"]         = \"valX\"\n",
        "DS[IDX][\"args\"][\"within\"]     = [\"cond0\",\"later0\",]\n",
        "DS[IDX][\"args\"][\"subject\"]    = \"subj0\"\n",
        "DS[IDX][\"args\"][\"correction\"] = \"auto\"\n",
        "DS[IDX][\"args\"][\"detailed\"]   = False\n",
        "DS[IDX][\"args\"][\"effsize\"]    = \"np2\" # \"np2\" \"n2\" \"ng2\"\n",
        "DS[IDX][\"AOV\"]  = pg.rm_anova(**DS[IDX][\"args\"])\n",
        "\n",
        "display(DS[IDX][\"AOV\"].round(3))\n",
        "display(DS[IDX][\"args\"][\"data\"].groupby(DS[IDX][\"args\"][\"within\"]).agg([\"count\",\"mean\",\"std\"])[\"valX\"])\n",
        "display(DS[IDX][\"args\"][\"data\"].shape)\n"
      ],
      "execution_count": 14,
      "outputs": [
        {
          "output_type": "display_data",
          "data": {
            "text/html": [
              "<div>\n",
              "<style scoped>\n",
              "    .dataframe tbody tr th:only-of-type {\n",
              "        vertical-align: middle;\n",
              "    }\n",
              "\n",
              "    .dataframe tbody tr th {\n",
              "        vertical-align: top;\n",
              "    }\n",
              "\n",
              "    .dataframe thead th {\n",
              "        text-align: right;\n",
              "    }\n",
              "</style>\n",
              "<table border=\"1\" class=\"dataframe\">\n",
              "  <thead>\n",
              "    <tr style=\"text-align: right;\">\n",
              "      <th></th>\n",
              "      <th>Source</th>\n",
              "      <th>SS</th>\n",
              "      <th>ddof1</th>\n",
              "      <th>ddof2</th>\n",
              "      <th>MS</th>\n",
              "      <th>F</th>\n",
              "      <th>p-unc</th>\n",
              "      <th>p-GG-corr</th>\n",
              "      <th>np2</th>\n",
              "      <th>eps</th>\n",
              "    </tr>\n",
              "  </thead>\n",
              "  <tbody>\n",
              "    <tr>\n",
              "      <th>0</th>\n",
              "      <td>cond0</td>\n",
              "      <td>12.260</td>\n",
              "      <td>2</td>\n",
              "      <td>62</td>\n",
              "      <td>6.130</td>\n",
              "      <td>7.250</td>\n",
              "      <td>0.001</td>\n",
              "      <td>0.002</td>\n",
              "      <td>0.190</td>\n",
              "      <td>0.949</td>\n",
              "    </tr>\n",
              "    <tr>\n",
              "      <th>1</th>\n",
              "      <td>later0</td>\n",
              "      <td>1.526</td>\n",
              "      <td>1</td>\n",
              "      <td>31</td>\n",
              "      <td>1.526</td>\n",
              "      <td>1.098</td>\n",
              "      <td>0.303</td>\n",
              "      <td>0.303</td>\n",
              "      <td>0.034</td>\n",
              "      <td>1.000</td>\n",
              "    </tr>\n",
              "    <tr>\n",
              "      <th>2</th>\n",
              "      <td>cond0 * later0</td>\n",
              "      <td>0.085</td>\n",
              "      <td>2</td>\n",
              "      <td>62</td>\n",
              "      <td>0.042</td>\n",
              "      <td>0.425</td>\n",
              "      <td>0.655</td>\n",
              "      <td>0.634</td>\n",
              "      <td>0.014</td>\n",
              "      <td>0.899</td>\n",
              "    </tr>\n",
              "  </tbody>\n",
              "</table>\n",
              "</div>"
            ],
            "text/plain": [
              "           Source      SS  ddof1  ddof2  ...  p-unc  p-GG-corr    np2    eps\n",
              "0           cond0  12.260      2     62  ...  0.001      0.002  0.190  0.949\n",
              "1          later0   1.526      1     31  ...  0.303      0.303  0.034  1.000\n",
              "2  cond0 * later0   0.085      2     62  ...  0.655      0.634  0.014  0.899\n",
              "\n",
              "[3 rows x 10 columns]"
            ]
          },
          "metadata": {
            "tags": []
          }
        },
        {
          "output_type": "display_data",
          "data": {
            "text/html": [
              "<div>\n",
              "<style scoped>\n",
              "    .dataframe tbody tr th:only-of-type {\n",
              "        vertical-align: middle;\n",
              "    }\n",
              "\n",
              "    .dataframe tbody tr th {\n",
              "        vertical-align: top;\n",
              "    }\n",
              "\n",
              "    .dataframe thead th {\n",
              "        text-align: right;\n",
              "    }\n",
              "</style>\n",
              "<table border=\"1\" class=\"dataframe\">\n",
              "  <thead>\n",
              "    <tr style=\"text-align: right;\">\n",
              "      <th></th>\n",
              "      <th></th>\n",
              "      <th>count</th>\n",
              "      <th>mean</th>\n",
              "      <th>std</th>\n",
              "    </tr>\n",
              "    <tr>\n",
              "      <th>cond0</th>\n",
              "      <th>later0</th>\n",
              "      <th></th>\n",
              "      <th></th>\n",
              "      <th></th>\n",
              "    </tr>\n",
              "  </thead>\n",
              "  <tbody>\n",
              "    <tr>\n",
              "      <th rowspan=\"2\" valign=\"top\">noun_F</th>\n",
              "      <th>L</th>\n",
              "      <td>192</td>\n",
              "      <td>-2.724195</td>\n",
              "      <td>2.194704</td>\n",
              "    </tr>\n",
              "    <tr>\n",
              "      <th>R</th>\n",
              "      <td>192</td>\n",
              "      <td>-2.936784</td>\n",
              "      <td>2.164322</td>\n",
              "    </tr>\n",
              "    <tr>\n",
              "      <th rowspan=\"2\" valign=\"top\">noun_M</th>\n",
              "      <th>L</th>\n",
              "      <td>192</td>\n",
              "      <td>-2.705620</td>\n",
              "      <td>2.244477</td>\n",
              "    </tr>\n",
              "    <tr>\n",
              "      <th>R</th>\n",
              "      <td>192</td>\n",
              "      <td>-2.908872</td>\n",
              "      <td>1.991843</td>\n",
              "    </tr>\n",
              "    <tr>\n",
              "      <th rowspan=\"2\" valign=\"top\">verb_X</th>\n",
              "      <th>L</th>\n",
              "      <td>192</td>\n",
              "      <td>-2.223688</td>\n",
              "      <td>1.993187</td>\n",
              "    </tr>\n",
              "    <tr>\n",
              "      <th>R</th>\n",
              "      <td>192</td>\n",
              "      <td>-2.342725</td>\n",
              "      <td>2.012630</td>\n",
              "    </tr>\n",
              "  </tbody>\n",
              "</table>\n",
              "</div>"
            ],
            "text/plain": [
              "               count      mean       std\n",
              "cond0  later0                           \n",
              "noun_F L         192 -2.724195  2.194704\n",
              "       R         192 -2.936784  2.164322\n",
              "noun_M L         192 -2.705620  2.244477\n",
              "       R         192 -2.908872  1.991843\n",
              "verb_X L         192 -2.223688  1.993187\n",
              "       R         192 -2.342725  2.012630"
            ]
          },
          "metadata": {
            "tags": []
          }
        },
        {
          "output_type": "display_data",
          "data": {
            "text/plain": [
              "(1152, 11)"
            ]
          },
          "metadata": {
            "tags": []
          }
        }
      ]
    },
    {
      "cell_type": "code",
      "metadata": {
        "colab": {
          "base_uri": "https://localhost:8080/",
          "height": 383
        },
        "id": "PeRNwPumEsvw",
        "outputId": "ba4e8663-b923-4c76-f54a-218237331910"
      },
      "source": [
        "sns.catplot(\n",
        "    x       = DS[IDX][\"args\"][\"within\"][1],\n",
        "    y       = DS[IDX][\"args\"][\"dv\"],\n",
        "    hue     = DS[IDX][\"args\"][\"within\"][0],\n",
        "    data    = DS[IDX][\"args\"][\"data\"],\n",
        "    kind    = \"bar\", \n",
        "    palette = \"flare\",\n",
        "    height  = 5, \n",
        "    aspect  = 1,\n",
        ")\n",
        "plt.show()"
      ],
      "execution_count": 95,
      "outputs": [
        {
          "output_type": "display_data",
          "data": {
            "image/png": "[encoded data removed]",
            "text/plain": [
              "<Figure size 434.75x360 with 1 Axes>"
            ]
          },
          "metadata": {
            "tags": [],
            "needs_background": "light"
          }
        }
      ]
    },
    {
      "cell_type": "code",
      "metadata": {
        "id": "_5-pM6KGEtHf"
      },
      "source": [
        ""
      ],
      "execution_count": null,
      "outputs": []
    },
    {
      "cell_type": "code",
      "metadata": {
        "id": "soszkullEtM_"
      },
      "source": [
        ""
      ],
      "execution_count": null,
      "outputs": []
    },
    {
      "cell_type": "code",
      "metadata": {
        "id": "gJFKJ3raEtRn"
      },
      "source": [
        ""
      ],
      "execution_count": null,
      "outputs": []
    },
    {
      "cell_type": "code",
      "metadata": {
        "id": "fdJR3j-vEtWn"
      },
      "source": [
        ""
      ],
      "execution_count": null,
      "outputs": []
    },
    {
      "cell_type": "code",
      "metadata": {
        "id": "pyI9rwo3EtcI"
      },
      "source": [
        ""
      ],
      "execution_count": null,
      "outputs": []
    },
    {
      "cell_type": "code",
      "metadata": {
        "id": "5ip-qu_cEthx"
      },
      "source": [
        "?sns.catplot"
      ],
      "execution_count": 65,
      "outputs": []
    }
  ]
}